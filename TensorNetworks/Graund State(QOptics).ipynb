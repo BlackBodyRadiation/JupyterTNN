{
 "cells": [
  {
   "cell_type": "code",
   "execution_count": 1,
   "metadata": {},
   "outputs": [],
   "source": [
    "using QuantumOptics"
   ]
  },
  {
   "cell_type": "code",
   "execution_count": 2,
   "metadata": {},
   "outputs": [],
   "source": [
    "b = SpinBasis(1//2);\n",
    "sx = 1/2*sigmax(b);\n",
    "sy = 1/2*sigmay(b);\n",
    "sz = 1/2*sigmaz(b);\n",
    "XX = sx ⊗ sx ;\n",
    "YY = sy ⊗ sy ;\n",
    "ZZ = sz ⊗ sz;\n",
    "Jxy=1;\n",
    "Jz=1;\n",
    "\n"
   ]
  },
  {
   "cell_type": "code",
   "execution_count": 3,
   "metadata": {},
   "outputs": [
    {
     "data": {
      "text/plain": [
       "basis (generic function with 1 method)"
      ]
     },
     "execution_count": 3,
     "metadata": {},
     "output_type": "execute_result"
    }
   ],
   "source": [
    "function basis(N)    \n",
    "    spinchain=b\n",
    "    for ispin in 2:N\n",
    "        spinchain = spinchain ⊗ b\n",
    "        \n",
    "    end\n",
    "    return spinchain # same local\n",
    "end"
   ]
  },
  {
   "cell_type": "code",
   "execution_count": 4,
   "metadata": {},
   "outputs": [
    {
     "data": {
      "text/plain": [
       "CrtModelH (generic function with 1 method)"
      ]
     },
     "execution_count": 4,
     "metadata": {},
     "output_type": "execute_result"
    }
   ],
   "source": [
    "function CrtModelH(N)\n",
    "    Htwoint=Jxy*(XX+YY)+Jz*ZZ\n",
    "    HXXZ = embed(basis(N), [1,2] , Htwoint)\n",
    "    for s in 2:N-1\n",
    "        HXXZ += embed(basis(N), [s,s+1] , Htwoint)\n",
    "    end\n",
    "    return HXXZ\n",
    "end"
   ]
  },
  {
   "cell_type": "code",
   "execution_count": 5,
   "metadata": {},
   "outputs": [
    {
     "data": {
      "text/plain": [
       "solvemodl (generic function with 1 method)"
      ]
     },
     "execution_count": 5,
     "metadata": {},
     "output_type": "execute_result"
    }
   ],
   "source": [
    "function solvemodl(N)\n",
    "    E5 = eigenenergies(CrtModelH(N), 5)\n",
    "    println(\" \")\n",
    "    #println(\"Lowest five eigenvalues\");\n",
    "    #println(E5);\n",
    "    println(\" \")\n",
    "    println(\" \")\n",
    "    # full spectrum\n",
    "    #EE, UU = eigenstates(dense(CrtModelH(N)))\n",
    "    println(\" \")\n",
    "    #println(\"All Eigenvalues\");\n",
    "    #println(EE);\n",
    "    println(\" \")\n",
    "    return E5\n",
    "end"
   ]
  },
  {
   "cell_type": "code",
   "execution_count": 6,
   "metadata": {},
   "outputs": [
    {
     "name": "stdout",
     "output_type": "stream",
     "text": [
      "INFO: Defaulting to sparse diagonalization.\n",
      "        If storing the full operator is possible, it might be faster to do\n",
      "        eigenstates(dense(op)). Set info=false to turn off this message.\n",
      " \n",
      " \n",
      " \n",
      " \n",
      " \n",
      "INFO: Defaulting to sparse diagonalization.\n",
      "        If storing the full operator is possible, it might be faster to do\n",
      "        eigenstates(dense(op)). Set info=false to turn off this message.\n",
      " \n",
      " \n",
      " \n",
      " \n",
      " \n",
      "INFO: Defaulting to sparse diagonalization.\n",
      "        If storing the full operator is possible, it might be faster to do\n",
      "        eigenstates(dense(op)). Set info=false to turn off this message.\n",
      " \n",
      " \n",
      " \n",
      " \n",
      " \n",
      "INFO: Defaulting to sparse diagonalization.\n",
      "        If storing the full operator is possible, it might be faster to do\n",
      "        eigenstates(dense(op)). Set info=false to turn off this message.\n",
      " \n",
      " \n",
      " \n",
      " \n",
      " \n"
     ]
    }
   ],
   "source": [
    "#Solves the for N=7,8,9,10\n",
    "Nlist = 7:10;\n",
    "E0s=[]; \n",
    "for N in Nlist\n",
    "    #HM = CrtModelH(N)\n",
    "    E0 = solvemodl(N)\n",
    "    push!(E0s,real(E0)/N)\n",
    "end \n",
    "E0pQO=[E0s[i][1] for i=1:length(Nlist)];\n",
    "\n"
   ]
  },
  {
   "cell_type": "code",
   "execution_count": 7,
   "metadata": {},
   "outputs": [
    {
     "data": {
      "text/plain": [
       "4-element Vector{Float64}:\n",
       " -0.40517709724095313\n",
       " -0.4218665748359887\n",
       " -0.4151468562643712\n",
       " -0.4258035207282919"
      ]
     },
     "execution_count": 7,
     "metadata": {},
     "output_type": "execute_result"
    }
   ],
   "source": [
    "E0pQO"
   ]
  },
  {
   "cell_type": "code",
   "execution_count": null,
   "metadata": {},
   "outputs": [],
   "source": []
  }
 ],
 "metadata": {
  "kernelspec": {
   "display_name": "Julia 1.6.2",
   "language": "julia",
   "name": "julia-1.6"
  },
  "language_info": {
   "file_extension": ".jl",
   "mimetype": "application/julia",
   "name": "julia",
   "version": "1.6.2"
  }
 },
 "nbformat": 4,
 "nbformat_minor": 4
}
