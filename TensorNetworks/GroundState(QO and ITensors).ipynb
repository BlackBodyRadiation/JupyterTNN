{
 "cells": [
  {
   "cell_type": "code",
   "execution_count": 1,
   "metadata": {},
   "outputs": [],
   "source": [
    "\n",
    "\n",
    "using ITensors\n",
    "\n"
   ]
  },
  {
   "cell_type": "code",
   "execution_count": 7,
   "metadata": {},
   "outputs": [
    {
     "data": {
      "text/plain": [
       "get_Hamiltonian (generic function with 1 method)"
      ]
     },
     "execution_count": 7,
     "metadata": {},
     "output_type": "execute_result"
    }
   ],
   "source": [
    "function get_Hamiltonian(N, Jxy, Jz)\n",
    "  sites = siteinds(\"S=1/2\",N)\n",
    "  ampo = OpSum()\n",
    "  for j=1:N-1 \n",
    "    ampo += Jz , \"Sz\",j,\"Sz\",j+1\n",
    "    ampo += Jxy, \"Sx\",j,\"Sx\",j+1\n",
    "    ampo += Jxy, \"Sy\",j,\"Sy\",j+1\n",
    "  end\n",
    "    \n",
    "  H = MPO(ampo,sites)\n",
    "  return H, sites\n",
    "end"
   ]
  },
  {
   "cell_type": "code",
   "execution_count": 8,
   "metadata": {},
   "outputs": [
    {
     "data": {
      "text/plain": [
       "perform_sweeps (generic function with 1 method)"
      ]
     },
     "execution_count": 8,
     "metadata": {},
     "output_type": "execute_result"
    }
   ],
   "source": [
    "function perform_sweeps(H, psi0, nsweep, bonddim, tuncerr)\n",
    "\n",
    "  sweeps = Sweeps(nsweep)\n",
    "  setmaxdim!(sweeps, bonddim)\n",
    "  setcutoff!(sweeps, truncerr)\n",
    "\n",
    "  energy, psi = dmrg(H, psi0, sweeps)\n",
    "\n",
    "  return energy, psi\n",
    "end\n"
   ]
  },
  {
   "cell_type": "code",
   "execution_count": 9,
   "metadata": {},
   "outputs": [
    {
     "data": {
      "text/plain": [
       "1:2:9"
      ]
     },
     "execution_count": 9,
     "metadata": {},
     "output_type": "execute_result"
    }
   ],
   "source": [
    "Jxy=1\n",
    "Jz=1\n",
    "truncerr=1E-12\n",
    "nsweep = 5\n",
    "bonddim= 5\n",
    "bondlist = 1:2:10\n",
    "\n"
   ]
  },
  {
   "cell_type": "code",
   "execution_count": 10,
   "metadata": {},
   "outputs": [
    {
     "name": "stdout",
     "output_type": "stream",
     "text": [
      "After sweep 1 energy=-2.492586513560 maxlinkdim=5 maxerr=1.87E-03 time=22.314\n",
      "After sweep 2 energy=-2.492765115370 maxlinkdim=5 maxerr=2.62E-04 time=0.004\n",
      "After sweep 3 energy=-2.492765105379 maxlinkdim=5 maxerr=2.60E-04 time=0.025\n",
      "After sweep 4 energy=-2.492765074484 maxlinkdim=5 maxerr=2.60E-04 time=0.006\n",
      "After sweep 5 energy=-2.492764970609 maxlinkdim=5 maxerr=2.60E-04 time=0.006\n",
      "After sweep 1 energy=-2.835732996519 maxlinkdim=5 maxerr=4.65E-03 time=0.008\n",
      "After sweep 2 energy=-2.836002128249 maxlinkdim=5 maxerr=4.08E-05 time=0.007\n",
      "After sweep 3 energy=-2.836002145352 maxlinkdim=5 maxerr=3.68E-05 time=0.006\n",
      "After sweep 4 energy=-2.836002145354 maxlinkdim=5 maxerr=3.68E-05 time=0.008\n",
      "After sweep 5 energy=-2.836002145354 maxlinkdim=5 maxerr=3.68E-05 time=0.007\n",
      "After sweep 1 energy=-3.372394014515 maxlinkdim=5 maxerr=1.21E-03 time=0.011\n",
      "After sweep 2 energy=-3.372497447065 maxlinkdim=5 maxerr=4.04E-04 time=0.010\n",
      "After sweep 3 energy=-3.372485395776 maxlinkdim=5 maxerr=3.98E-04 time=0.010\n",
      "After sweep 4 energy=-3.372476527161 maxlinkdim=5 maxerr=3.98E-04 time=0.028\n",
      "After sweep 5 energy=-3.372471324510 maxlinkdim=5 maxerr=3.98E-04 time=0.009\n",
      "After sweep 1 energy=-3.733510287813 maxlinkdim=5 maxerr=1.82E-03 time=0.012\n",
      "After sweep 2 energy=-3.735473421361 maxlinkdim=5 maxerr=9.93E-05 time=0.010\n",
      "After sweep 3 energy=-3.735473804377 maxlinkdim=5 maxerr=9.19E-05 time=0.010\n",
      "After sweep 4 energy=-3.735473804262 maxlinkdim=5 maxerr=9.19E-05 time=0.012\n",
      "After sweep 5 energy=-3.735473804260 maxlinkdim=5 maxerr=9.19E-05 time=0.010\n"
     ]
    }
   ],
   "source": [
    "Nlist = 6:9;\n",
    "Elist=[]\n",
    "for N in Nlist\n",
    "    HH, sites = get_Hamiltonian(N, Jxy, Jz)\n",
    "    psi0 = randomMPS(sites,10)\n",
    "    E0, psi = perform_sweeps(HH, psi0, nsweep, bonddim, truncerr)\n",
    " \n",
    "    push!(Elist,real(E0)/N)\n",
    "end \n"
   ]
  },
  {
   "cell_type": "code",
   "execution_count": 11,
   "metadata": {},
   "outputs": [],
   "source": [
    "E0list=[Elist[i][1] for i=1:length(Nlist)];"
   ]
  },
  {
   "cell_type": "code",
   "execution_count": 12,
   "metadata": {},
   "outputs": [
    {
     "data": {
      "text/plain": [
       "4-element Vector{Float64}:\n",
       " -0.41546082843484217\n",
       " -0.4051431636220134\n",
       " -0.4215589155637679\n",
       " -0.4150526449177814"
      ]
     },
     "execution_count": 12,
     "metadata": {},
     "output_type": "execute_result"
    }
   ],
   "source": [
    "E0list\n"
   ]
  },
  {
   "cell_type": "code",
   "execution_count": 13,
   "metadata": {},
   "outputs": [
    {
     "data": {
      "text/plain": [
       "pwd (generic function with 1 method)"
      ]
     },
     "execution_count": 13,
     "metadata": {},
     "output_type": "execute_result"
    }
   ],
   "source": [
    "pwd"
   ]
  },
  {
   "cell_type": "code",
   "execution_count": null,
   "metadata": {},
   "outputs": [],
   "source": []
  },
  {
   "cell_type": "code",
   "execution_count": null,
   "metadata": {},
   "outputs": [],
   "source": []
  },
  {
   "cell_type": "code",
   "execution_count": null,
   "metadata": {},
   "outputs": [],
   "source": []
  },
  {
   "cell_type": "code",
   "execution_count": null,
   "metadata": {},
   "outputs": [],
   "source": []
  },
  {
   "cell_type": "code",
   "execution_count": null,
   "metadata": {},
   "outputs": [],
   "source": []
  }
 ],
 "metadata": {
  "kernelspec": {
   "display_name": "Julia 1.6.2",
   "language": "julia",
   "name": "julia-1.6"
  },
  "language_info": {
   "file_extension": ".jl",
   "mimetype": "application/julia",
   "name": "julia",
   "version": "1.6.2"
  }
 },
 "nbformat": 4,
 "nbformat_minor": 4
}
