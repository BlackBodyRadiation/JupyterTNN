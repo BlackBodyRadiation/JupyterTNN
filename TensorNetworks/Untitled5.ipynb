{
 "cells": [
  {
   "cell_type": "code",
   "execution_count": 1,
   "metadata": {},
   "outputs": [],
   "source": [
    "using QuantumOptics\n"
   ]
  },
  {
   "cell_type": "code",
   "execution_count": 2,
   "metadata": {},
   "outputs": [
    {
     "name": "stdout",
     "output_type": "stream",
     "text": [
      "INFO: Defaulting to sparse diagonalization.\n",
      "        If storing the full operator is possible, it might be faster to do\n",
      "        eigenstates(dense(op)). Set info=false to turn off this message.\n",
      " \n",
      "Lowest five eigenvalues\n",
      "ComplexF64[-4.0000000000000036 + 3.451978188379553e-17im, -3.999999999999999 - 6.6184684211289624e-18im, -2.0000000000000013 + 1.41822359259377e-17im, -2.0000000000000004 + 2.863190614597328e-18im, -2.0000000000000004 + 7.866818497622432e-20im]\n",
      " \n",
      " \n",
      "All Eigenvalues\n",
      "[-4.0, -4.0, -2.0, -2.0, -2.0, -2.0, -2.0, -2.0, -2.0, -2.0, 0.0, 0.0, 0.0, 0.0, 0.0, 0.0, 0.0, 0.0, 0.0, 0.0, 0.0, 0.0, 2.0, 2.0, 2.0, 2.0, 2.0, 2.0, 2.0, 2.0, 4.0, 4.0]\n",
      " \n"
     ]
    }
   ],
   "source": [
    "b = SpinBasis(1//2)\n",
    "sx = sigmax(b)\n",
    "sy = sigmay(b)\n",
    "sz = sigmaz(b)\n",
    "N = 5\n",
    "spinchain = b ⊗ b\n",
    "for ispin in 3:N\n",
    "    global spinchain\n",
    "    spinchain = spinchain ⊗ b\n",
    "end\n",
    "XX = sx ⊗ sx\n",
    "YY = sy ⊗ sy\n",
    "ZZ = sz ⊗ sz\n",
    "Jz=1\n",
    "HIsing = embed(spinchain, [1,2] , Jz*ZZ)\n",
    "for ispin in 2:N-1\n",
    "    global HIsing\n",
    "    HIsing += embed(spinchain, [ispin,ispin+1] , Jz*ZZ)\n",
    "end\n",
    "# make sure H is numerically Hermitian\n",
    "HIsing = ( HIsing + dagger(HIsing) )/2\n",
    "# find first 5 eigenvalues using sparse matrix\n",
    "E5 = eigenenergies(HIsing, 5)\n",
    "println(\" \")\n",
    "println(\"Lowest five eigenvalues\")\n",
    "println(E5)\n",
    "println(\" \")\n",
    "# full spectrum\n",
    "EE, UU = eigenstates(dense(HIsing))\n",
    "println(\" \")\n",
    "println(\"All Eigenvalues\")\n",
    "println(EE)\n",
    "println(\" \")"
   ]
  },
  {
   "cell_type": "code",
   "execution_count": null,
   "metadata": {},
   "outputs": [],
   "source": []
  }
 ],
 "metadata": {
  "kernelspec": {
   "display_name": "Julia 1.6.2",
   "language": "julia",
   "name": "julia-1.6"
  },
  "language_info": {
   "file_extension": ".jl",
   "mimetype": "application/julia",
   "name": "julia",
   "version": "1.6.2"
  }
 },
 "nbformat": 4,
 "nbformat_minor": 4
}
