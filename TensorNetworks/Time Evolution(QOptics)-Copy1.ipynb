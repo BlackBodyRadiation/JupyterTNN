{
 "cells": [
  {
   "cell_type": "code",
   "execution_count": null,
   "metadata": {},
   "outputs": [],
   "source": [
    "using QuantumOptics\n",
    "using PyPlot"
   ]
  },
  {
   "cell_type": "code",
   "execution_count": null,
   "metadata": {},
   "outputs": [],
   "source": [
    "b = SpinBasis(1//2)\n",
    "sx = 1/2*sigmax(b)\n",
    "sy = 1/2*sigmay(b)\n",
    "sz = 1/2*sigmaz(b)\n",
    "XX = sx ⊗ sx \n",
    "YY = sy ⊗ sy \n",
    "ZZ = sz ⊗ sz"
   ]
  },
  {
   "cell_type": "code",
   "execution_count": null,
   "metadata": {},
   "outputs": [],
   "source": [
    "Jxy=1\n",
    "Jz=1"
   ]
  },
  {
   "cell_type": "code",
   "execution_count": null,
   "metadata": {},
   "outputs": [],
   "source": [
    "function basis(N)    \n",
    "    spinchain=b\n",
    "    for ispin in 2:N\n",
    "        spinchain = spinchain ⊗ b\n",
    "        \n",
    "    end\n",
    "    return spinchain # same local\n",
    "end"
   ]
  },
  {
   "cell_type": "code",
   "execution_count": null,
   "metadata": {},
   "outputs": [],
   "source": [
    "function CrtModelH(N)\n",
    "    Htwoint=Jxy*(XX+YY)+Jz*ZZ\n",
    "    HXXZ = embed(basis(N), [1,2] , Htwoint)\n",
    "    for s in 2:N-1\n",
    "        HXXZ += embed(basis(N), [s,s+1] , Htwoint)\n",
    "    end\n",
    "    return HXXZ\n",
    "end"
   ]
  },
  {
   "cell_type": "code",
   "execution_count": null,
   "metadata": {},
   "outputs": [],
   "source": [
    "s5z = embed(basis(10) , [5] , sz)\n",
    "s6z = embed(basis(10) , [6] , sz)\n",
    "sup = spinup(b)\n",
    "sdo = spindown(b)\n",
    "psi0 = sup\n",
    "for ispin in 2:10\n",
    "    global psi0\n",
    "    if ispin == 5\n",
    "       psi0 = psi0 ⊗ sdo\n",
    "    else \n",
    "       psi0 = psi0 ⊗ sup\n",
    "    end \n",
    "end"
   ]
  },
  {
   "cell_type": "code",
   "execution_count": null,
   "metadata": {},
   "outputs": [],
   "source": [
    "times = 0:.1:12\n",
    "tout, psi_t = timeevolution.schroedinger(times, psi0, CrtModelH(10))"
   ]
  },
  {
   "cell_type": "code",
   "execution_count": null,
   "metadata": {},
   "outputs": [],
   "source": [
    "m5z = expect(s5z, psi_t)\n",
    "m6z = expect(s6z, psi_t)"
   ]
  },
  {
   "cell_type": "code",
   "execution_count": null,
   "metadata": {},
   "outputs": [],
   "source": []
  }
 ],
 "metadata": {
  "kernelspec": {
   "display_name": "Julia 1.6.2",
   "language": "julia",
   "name": "julia-1.6"
  },
  "language_info": {
   "file_extension": ".jl",
   "mimetype": "application/julia",
   "name": "julia",
   "version": "1.6.2"
  },
  "widgets": {
   "application/vnd.jupyter.widget-state+json": {
    "state": {},
    "version_major": 2,
    "version_minor": 0
   }
  }
 },
 "nbformat": 4,
 "nbformat_minor": 4
}
