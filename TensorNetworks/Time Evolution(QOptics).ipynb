{
 "cells": [
  {
   "cell_type": "code",
   "execution_count": 1,
   "metadata": {},
   "outputs": [],
   "source": [
    "using QuantumOptics"
   ]
  },
  {
   "cell_type": "code",
   "execution_count": 2,
   "metadata": {},
   "outputs": [
    {
     "data": {
      "text/plain": [
       "1"
      ]
     },
     "execution_count": 2,
     "metadata": {},
     "output_type": "execute_result"
    }
   ],
   "source": [
    "b = SpinBasis(1//2);\n",
    "sx = 1/2*sigmax(b);\n",
    "sy = 1/2*sigmay(b);\n",
    "sz = 1/2*sigmaz(b);\n",
    "XX = sx ⊗ sx ;\n",
    "YY = sy ⊗ sy ;\n",
    "ZZ = sz ⊗ sz;\n",
    "\n",
    "Jxy=1\n",
    "Jz=1"
   ]
  },
  {
   "cell_type": "code",
   "execution_count": 3,
   "metadata": {},
   "outputs": [
    {
     "data": {
      "text/plain": [
       "basis (generic function with 1 method)"
      ]
     },
     "execution_count": 3,
     "metadata": {},
     "output_type": "execute_result"
    }
   ],
   "source": [
    "function basis(N)    \n",
    "    spinchain=b\n",
    "    for ispin in 2:N\n",
    "        spinchain = spinchain ⊗ b\n",
    "        \n",
    "    end\n",
    "    return spinchain; # same local\n",
    "end\n",
    "\n"
   ]
  },
  {
   "cell_type": "code",
   "execution_count": 4,
   "metadata": {},
   "outputs": [
    {
     "data": {
      "text/plain": [
       "CrtModelH (generic function with 1 method)"
      ]
     },
     "execution_count": 4,
     "metadata": {},
     "output_type": "execute_result"
    }
   ],
   "source": [
    "function CrtModelH(N)\n",
    "    Htwoint=Jxy*(XX+YY)+Jz*ZZ\n",
    "    HXXZ = embed(basis(N), [1,2] , Htwoint)\n",
    "    for s in 2:N-1\n",
    "        HXXZ += embed(basis(N), [s,s+1] , Htwoint)\n",
    "    end\n",
    "    return HXXZ;\n",
    "end"
   ]
  },
  {
   "cell_type": "code",
   "execution_count": 5,
   "metadata": {},
   "outputs": [
    {
     "data": {
      "text/plain": [
       "Ket(dim=2)\n",
       "  basis: Spin(1/2)\n",
       " 1.0 + 0.0im\n",
       " 0.0 + 0.0im"
      ]
     },
     "execution_count": 5,
     "metadata": {},
     "output_type": "execute_result"
    }
   ],
   "source": [
    "s5z = embed(basis(10) , [5] , sz);\n",
    "s6z = embed(basis(10) , [6] , sz);\n",
    "sup = spinup(b);\n",
    "sdo = spindown(b);\n",
    "psi0 = sup"
   ]
  },
  {
   "cell_type": "code",
   "execution_count": 6,
   "metadata": {},
   "outputs": [],
   "source": [
    "for ispin in 2:10\n",
    "    global psi0\n",
    "    if ispin == 5\n",
    "       psi0 = psi0 ⊗ sdo;\n",
    "    else \n",
    "       psi0 = psi0 ⊗ sup;\n",
    "    end \n",
    "end"
   ]
  },
  {
   "cell_type": "code",
   "execution_count": 7,
   "metadata": {},
   "outputs": [],
   "source": [
    "times = 0:.1:12;\n",
    "tout, psi_t = timeevolution.schroedinger(times, psi0, CrtModelH(10));\n",
    "\n"
   ]
  },
  {
   "cell_type": "code",
   "execution_count": 8,
   "metadata": {},
   "outputs": [],
   "source": [
    "m5z = expect(s5z, psi_t);\n",
    "m6z = expect(s6z, psi_t);"
   ]
  },
  {
   "cell_type": "code",
   "execution_count": null,
   "metadata": {},
   "outputs": [],
   "source": [
    "using PyPlot\n",
    "\n",
    "PyPlot.plot(tout, m5z,linestyle = \":\",linewidth = 5)\n",
    "PyPlot.plot(tout, m6z,linestyle = \":\",linewidth = 5)"
   ]
  }
 ],
 "metadata": {
  "kernelspec": {
   "display_name": "Julia 1.6.2",
   "language": "julia",
   "name": "julia-1.6"
  },
  "language_info": {
   "file_extension": ".jl",
   "mimetype": "application/julia",
   "name": "julia",
   "version": "1.6.2"
  }
 },
 "nbformat": 4,
 "nbformat_minor": 4
}
