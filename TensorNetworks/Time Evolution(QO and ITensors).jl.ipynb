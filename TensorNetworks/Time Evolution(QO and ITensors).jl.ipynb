{
 "cells": [
  {
   "cell_type": "code",
   "execution_count": null,
   "metadata": {},
   "outputs": [],
   "source": [
    "using NBInclude\n",
    "\n",
    "\n",
    "@nbinclude(\"Time Evolution(QOptics).ipynb\")\n",
    "\n",
    "using ITensors\n",
    "using PyPlot\n",
    "\n"
   ]
  },
  {
   "cell_type": "code",
   "execution_count": 1,
   "metadata": {},
   "outputs": [
    {
     "data": {
      "text/plain": [
       "6.0"
      ]
     },
     "execution_count": 1,
     "metadata": {},
     "output_type": "execute_result"
    }
   ],
   "source": [
    "  N = 10\n",
    "  cutoff = 1E-8\n",
    "  tau = 0.05\n",
    "  ttotal = 1.5*4\n",
    "\n"
   ]
  },
  {
   "cell_type": "code",
   "execution_count": null,
   "metadata": {},
   "outputs": [],
   "source": [
    "function TEvolHeis(N, cutoff,tau, ttotal)\n",
    "\n",
    "  # Compute the number of steps to do\n",
    "  Nsteps = Int(ttotal/tau)\n",
    "\n",
    "  # Make an array of 'site' indices\n",
    "  s = siteinds(\"S=1/2\",N)\n",
    "\n",
    "  # Make gates (1,2),(2,3),(3,4),...\n",
    "  gates = ITensor[]\n",
    "  for j=1:N-1\n",
    "    s1 = s[j]\n",
    "    s2 = s[j+1]\n",
    "    hj =       op(\"Sz\",s1) * op(\"Sz\",s2) +\n",
    "               op(\"Sx\",s1) * op(\"Sx\",s2) +\n",
    "               op(\"Sy\",s1) * op(\"Sy\",s2)\n",
    "    Gj = exp(-1.0im * tau/2 * hj)\n",
    "    push!(gates,Gj)\n",
    "  end\n",
    "    c = div(N,2) # center site\n",
    "\n",
    "  # Initialize psi to be a product state (alternating up and down)\n",
    "  psi = productMPS(s, n -> n!=c ? \"Up\" : \"Dn\")\n",
    "\n",
    "  Szc=[]\n",
    "  Szc2=[]\n",
    "  # Compute and print initial <Sz> value on site c\n",
    "  t = 0.0\n",
    "  Sz  = ITensors.expect(psi,\"Sz\";site_range=c:c)\n",
    "  Sz2 = ITensors.expect(psi,\"Sz\";site_range=c+1:c+1)\n",
    "  println(\"$t $Sz $Sz2\")\n",
    "  append!(Szc,Sz)\n",
    "  append!(Szc2,Sz2)\n",
    "\n",
    "  # Do the time evolution by applying the gates\n",
    "  # for Nsteps steps and printing <Sz> on site c\n",
    "  for step=1:Nsteps\n",
    "    psi = apply(gates, psi; cutoff=cutoff)\n",
    "    t += tau\n",
    "    Sz  = ITensors.expect(psi,\"Sz\";site_range=c:c)\n",
    "    Sz2 = ITensors.expect(psi,\"Sz\";site_range=c+1:c+1)\n",
    "    println(\"$t $Sz $Sz2\")\n",
    "    append!(Szc,Sz)\n",
    "    append!(Szc2,Sz2)\n",
    "  end\n",
    "  times = 0:tau:ttotal\n",
    "  return Szc, Szc2, times\n",
    "end"
   ]
  },
  {
   "cell_type": "code",
   "execution_count": null,
   "metadata": {},
   "outputs": [],
   "source": []
  },
  {
   "cell_type": "code",
   "execution_count": null,
   "metadata": {},
   "outputs": [],
   "source": []
  },
  {
   "cell_type": "code",
   "execution_count": null,
   "metadata": {},
   "outputs": [],
   "source": []
  },
  {
   "cell_type": "code",
   "execution_count": null,
   "metadata": {},
   "outputs": [],
   "source": []
  },
  {
   "cell_type": "code",
   "execution_count": null,
   "metadata": {},
   "outputs": [],
   "source": []
  },
  {
   "cell_type": "code",
   "execution_count": null,
   "metadata": {},
   "outputs": [],
   "source": []
  },
  {
   "cell_type": "code",
   "execution_count": null,
   "metadata": {},
   "outputs": [],
   "source": []
  },
  {
   "cell_type": "code",
   "execution_count": null,
   "metadata": {},
   "outputs": [],
   "source": []
  }
 ],
 "metadata": {
  "kernelspec": {
   "display_name": "Julia 1.6.2",
   "language": "julia",
   "name": "julia-1.6"
  },
  "language_info": {
   "file_extension": ".jl",
   "mimetype": "application/julia",
   "name": "julia",
   "version": "1.6.2"
  }
 },
 "nbformat": 4,
 "nbformat_minor": 4
}
