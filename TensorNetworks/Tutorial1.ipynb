{
 "cells": [
  {
   "cell_type": "code",
   "execution_count": 33,
   "metadata": {},
   "outputs": [],
   "source": [
    "using  LinearAlgebra"
   ]
  },
  {
   "cell_type": "code",
   "execution_count": 47,
   "metadata": {},
   "outputs": [
    {
     "data": {
      "text/plain": [
       "2×3×4 Array{ComplexF64, 3}:\n",
       "[:, :, 1] =\n",
       " 0.165591+0.251636im  0.644302+0.602742im  0.0600068+0.31263im\n",
       " 0.828311+0.376073im  0.539378+0.267011im   0.789551+0.635325im\n",
       "\n",
       "[:, :, 2] =\n",
       " 0.442118+0.31687im    0.979493+0.630683im  0.129503+0.247684im\n",
       " 0.153653+0.624393im  0.0581962+0.336925im  0.643536+0.830689im\n",
       "\n",
       "[:, :, 3] =\n",
       " 0.312534+0.138524im  0.857637+0.0249971im  0.743156+0.572422im\n",
       "   0.4078+0.30835im   0.425667+0.351313im   0.872847+0.134218im\n",
       "\n",
       "[:, :, 4] =\n",
       " 0.994906+0.908168im  0.540337+0.1507im     0.96376+0.0574168im\n",
       " 0.628439+0.896419im  0.439377+0.245981im  0.897256+0.279732im"
      ]
     },
     "execution_count": 47,
     "metadata": {},
     "output_type": "execute_result"
    }
   ],
   "source": [
    "# tensor with randomly generated entries, order 3, dims: 2-by-3-by-4\n",
    "A = rand(2,2,2,2)\n",
    "\n",
    "# identity matrix, order 2, dims: 5-by-5 (New syntax in Julia 0.7+)\n",
    "B = Matrix{Float64}(I,5,5)\n",
    "\n",
    "# tensor of 1's, order 4, dims: 2-by-4-by-2-by-4\n",
    "C = ones(2,4,2,4)\n",
    "\n",
    "# matrix of 0's, order 2, dims: 3-by-5\n",
    "D = zeros(3,5)\n",
    "\n",
    "# initialize complex random tensor\n",
    "E = rand(2,3,4) + im*rand(2,3,4)"
   ]
  },
  {
   "cell_type": "code",
   "execution_count": 48,
   "metadata": {},
   "outputs": [
    {
     "data": {
      "text/plain": [
       "2×2×2×2 Array{Float64, 4}:\n",
       "[:, :, 1, 1] =\n",
       " 0.277708  0.746711\n",
       " 0.729846  0.355048\n",
       "\n",
       "[:, :, 2, 1] =\n",
       " 0.877473  0.479074\n",
       " 0.702642  0.985343\n",
       "\n",
       "[:, :, 1, 2] =\n",
       " 0.0712672  0.770615\n",
       " 0.247541   0.916366\n",
       "\n",
       "[:, :, 2, 2] =\n",
       " 0.609669  0.567796\n",
       " 0.868187  0.394204"
      ]
     },
     "execution_count": 48,
     "metadata": {},
     "output_type": "execute_result"
    }
   ],
   "source": [
    "A"
   ]
  },
  {
   "cell_type": "code",
   "execution_count": 50,
   "metadata": {},
   "outputs": [
    {
     "data": {
      "text/plain": [
       "2×2×2×2 Array{Float64, 4}:\n",
       "[:, :, 1, 1] =\n",
       " 0.277708   0.729846\n",
       " 0.0712672  0.247541\n",
       "\n",
       "[:, :, 2, 1] =\n",
       " 0.746711  0.355048\n",
       " 0.770615  0.916366\n",
       "\n",
       "[:, :, 1, 2] =\n",
       " 0.877473  0.702642\n",
       " 0.609669  0.868187\n",
       "\n",
       "[:, :, 2, 2] =\n",
       " 0.479074  0.985343\n",
       " 0.567796  0.394204"
      ]
     },
     "execution_count": 50,
     "metadata": {},
     "output_type": "execute_result"
    }
   ],
   "source": [
    "#(a):Permute\n",
    "\n",
    "Atilda = permutedims(A,[4,1,2,3])"
   ]
  },
  {
   "cell_type": "code",
   "execution_count": 51,
   "metadata": {},
   "outputs": [
    {
     "data": {
      "text/plain": [
       "4×4×4 Array{Float64, 3}:\n",
       "[:, :, 1] =\n",
       " 0.106151    0.139222   0.667462  0.158117\n",
       " 0.311851    0.540077   0.161437  0.820401\n",
       " 0.722408    0.826174   0.973885  0.01622\n",
       " 0.00192776  0.0976027  0.949946  0.571774\n",
       "\n",
       "[:, :, 2] =\n",
       " 0.67071   0.438392   0.613269   0.193103\n",
       " 0.601435  0.0663519  0.0581607  0.935538\n",
       " 0.117616  0.595179   0.715785   0.801244\n",
       " 0.243257  0.435714   0.517485   0.625965\n",
       "\n",
       "[:, :, 3] =\n",
       " 0.574799  0.994454  0.619886  0.661915\n",
       " 0.492719  0.562479  0.55107   0.187201\n",
       " 0.117592  0.144035  0.484073  0.699052\n",
       " 0.687268  0.640768  0.860211  0.466031\n",
       "\n",
       "[:, :, 4] =\n",
       " 0.474136    0.519981  0.224578  0.26127\n",
       " 0.50741     0.429663  0.37324   0.0796418\n",
       " 0.00476318  0.213509  0.933826  0.126983\n",
       " 0.511375    0.549488  0.57158   0.830939"
      ]
     },
     "execution_count": 51,
     "metadata": {},
     "output_type": "execute_result"
    }
   ],
   "source": [
    "#Ex.1.2(b):Reshape\n",
    "F = rand(4,4,4)\n"
   ]
  },
  {
   "cell_type": "code",
   "execution_count": 52,
   "metadata": {},
   "outputs": [
    {
     "data": {
      "text/plain": [
       "4×16 Matrix{Float64}:\n",
       " 0.106151    0.139222   0.667462  0.158117  …  0.519981  0.224578  0.26127\n",
       " 0.311851    0.540077   0.161437  0.820401     0.429663  0.37324   0.0796418\n",
       " 0.722408    0.826174   0.973885  0.01622      0.213509  0.933826  0.126983\n",
       " 0.00192776  0.0976027  0.949946  0.571774     0.549488  0.57158   0.830939"
      ]
     },
     "execution_count": 52,
     "metadata": {},
     "output_type": "execute_result"
    }
   ],
   "source": [
    "Ftilda = reshape(F,4,4^2)"
   ]
  },
  {
   "cell_type": "code",
   "execution_count": 39,
   "metadata": {},
   "outputs": [
    {
     "data": {
      "text/plain": [
       "5×5 Matrix{Float64}:\n",
       " 1.0  0.0  0.0  0.0  0.0\n",
       " 0.0  1.0  0.0  0.0  0.0\n",
       " 0.0  0.0  1.0  0.0  0.0\n",
       " 0.0  0.0  0.0  1.0  0.0\n",
       " 0.0  0.0  0.0  0.0  1.0"
      ]
     },
     "execution_count": 39,
     "metadata": {},
     "output_type": "execute_result"
    }
   ],
   "source": [
    "B"
   ]
  },
  {
   "cell_type": "code",
   "execution_count": 27,
   "metadata": {},
   "outputs": [
    {
     "data": {
      "text/plain": [
       "2×4×2×4 Array{Float64, 4}:\n",
       "[:, :, 1, 1] =\n",
       " 1.0  1.0  1.0  1.0\n",
       " 1.0  1.0  1.0  1.0\n",
       "\n",
       "[:, :, 2, 1] =\n",
       " 1.0  1.0  1.0  1.0\n",
       " 1.0  1.0  1.0  1.0\n",
       "\n",
       "[:, :, 1, 2] =\n",
       " 1.0  1.0  1.0  1.0\n",
       " 1.0  1.0  1.0  1.0\n",
       "\n",
       "[:, :, 2, 2] =\n",
       " 1.0  1.0  1.0  1.0\n",
       " 1.0  1.0  1.0  1.0\n",
       "\n",
       "[:, :, 1, 3] =\n",
       " 1.0  1.0  1.0  1.0\n",
       " 1.0  1.0  1.0  1.0\n",
       "\n",
       "[:, :, 2, 3] =\n",
       " 1.0  1.0  1.0  1.0\n",
       " 1.0  1.0  1.0  1.0\n",
       "\n",
       "[:, :, 1, 4] =\n",
       " 1.0  1.0  1.0  1.0\n",
       " 1.0  1.0  1.0  1.0\n",
       "\n",
       "[:, :, 2, 4] =\n",
       " 1.0  1.0  1.0  1.0\n",
       " 1.0  1.0  1.0  1.0"
      ]
     },
     "execution_count": 27,
     "metadata": {},
     "output_type": "execute_result"
    }
   ],
   "source": [
    "C"
   ]
  },
  {
   "cell_type": "code",
   "execution_count": 28,
   "metadata": {},
   "outputs": [
    {
     "data": {
      "text/plain": [
       "3×5 Matrix{Float64}:\n",
       " 0.0  0.0  0.0  0.0  0.0\n",
       " 0.0  0.0  0.0  0.0  0.0\n",
       " 0.0  0.0  0.0  0.0  0.0"
      ]
     },
     "execution_count": 28,
     "metadata": {},
     "output_type": "execute_result"
    }
   ],
   "source": [
    "D"
   ]
  },
  {
   "cell_type": "code",
   "execution_count": 29,
   "metadata": {},
   "outputs": [
    {
     "data": {
      "text/plain": [
       "2×3×4 Array{ComplexF64, 3}:\n",
       "[:, :, 1] =\n",
       " 0.920221+0.733649im  0.259806+0.155091im  0.324937+0.268052im\n",
       " 0.908375+0.167759im  0.572553+0.212141im  0.622921+0.37346im\n",
       "\n",
       "[:, :, 2] =\n",
       "  0.74911+0.179685im  0.267182+0.150828im  0.892594+0.760507im\n",
       " 0.693063+0.840593im  0.169604+0.157123im  0.885387+0.291739im\n",
       "\n",
       "[:, :, 3] =\n",
       " 0.305158+0.989258im  0.972669+0.0967278im  0.956044+0.271808im\n",
       " 0.921743+0.124701im  0.071563+0.748437im   0.702787+0.631027im\n",
       "\n",
       "[:, :, 4] =\n",
       "  0.70197+0.461671im  0.376339+0.637053im  0.441083+0.692087im\n",
       " 0.343216+0.6861im     0.24206+0.339027im  0.445131+0.234091im"
      ]
     },
     "execution_count": 29,
     "metadata": {},
     "output_type": "execute_result"
    }
   ],
   "source": [
    "E"
   ]
  },
  {
   "cell_type": "code",
   "execution_count": 64,
   "metadata": {},
   "outputs": [],
   "source": [
    "##### Ex.1.3(a): Binary Tensor Contraction\n",
    "d = 2;\n",
    "A = rand(d,d,d,d);  B = rand(d,d,d,d);\n",
    "\n",
    "Ap  = permutedims(A,[1,3,2,4]);  Bp  = permutedims(B,[1,4,2,3]);\n",
    "Apr = reshape(Ap,d^2,d^2);       Bpr = reshape(Bp,d^2,d^2);\n",
    "Cpr = Apr*Bpr;\n",
    "C   = reshape(Cpr,d,d,d,d);"
   ]
  },
  {
   "cell_type": "code",
   "execution_count": 65,
   "metadata": {},
   "outputs": [
    {
     "data": {
      "text/plain": [
       "2×2×2×2 Array{Float64, 4}:\n",
       "[:, :, 1, 1] =\n",
       " 0.57302   0.452972\n",
       " 0.560062  0.409988\n",
       "\n",
       "[:, :, 2, 1] =\n",
       " 0.0384126  0.220683\n",
       " 0.737094   0.748078\n",
       "\n",
       "[:, :, 1, 2] =\n",
       " 0.15734    0.224047\n",
       " 0.0832772  0.386661\n",
       "\n",
       "[:, :, 2, 2] =\n",
       " 0.15758    0.485937\n",
       " 0.0108616  0.745074"
      ]
     },
     "execution_count": 65,
     "metadata": {},
     "output_type": "execute_result"
    }
   ],
   "source": [
    "A"
   ]
  },
  {
   "cell_type": "code",
   "execution_count": 66,
   "metadata": {},
   "outputs": [
    {
     "data": {
      "text/plain": [
       "2×2×2×2 Array{Float64, 4}:\n",
       "[:, :, 1, 1] =\n",
       " 0.57302   0.0384126\n",
       " 0.560062  0.737094\n",
       "\n",
       "[:, :, 2, 1] =\n",
       " 0.452972  0.220683\n",
       " 0.409988  0.748078\n",
       "\n",
       "[:, :, 1, 2] =\n",
       " 0.15734    0.15758\n",
       " 0.0832772  0.0108616\n",
       "\n",
       "[:, :, 2, 2] =\n",
       " 0.224047  0.485937\n",
       " 0.386661  0.745074"
      ]
     },
     "execution_count": 66,
     "metadata": {},
     "output_type": "execute_result"
    }
   ],
   "source": [
    "Ap"
   ]
  },
  {
   "cell_type": "code",
   "execution_count": 67,
   "metadata": {},
   "outputs": [
    {
     "data": {
      "text/plain": [
       "4×4 Matrix{Float64}:\n",
       " 0.57302    0.452972  0.15734    0.224047\n",
       " 0.560062   0.409988  0.0832772  0.386661\n",
       " 0.0384126  0.220683  0.15758    0.485937\n",
       " 0.737094   0.748078  0.0108616  0.745074"
      ]
     },
     "execution_count": 67,
     "metadata": {},
     "output_type": "execute_result"
    }
   ],
   "source": [
    "Apr"
   ]
  },
  {
   "cell_type": "code",
   "execution_count": null,
   "metadata": {},
   "outputs": [],
   "source": [
    "\n",
    "\n",
    "\n"
   ]
  },
  {
   "cell_type": "code",
   "execution_count": null,
   "metadata": {},
   "outputs": [],
   "source": []
  },
  {
   "cell_type": "code",
   "execution_count": null,
   "metadata": {},
   "outputs": [],
   "source": []
  },
  {
   "cell_type": "code",
   "execution_count": 68,
   "metadata": {},
   "outputs": [],
   "source": [
    "##### Ex.1.4(c): Tensor network evaluation\n",
    "d = 10; A = rand(d,d);  B = rand(d,d); C = rand(d,d);\n",
    "# Evaluare network via summation over internal indices\n",
    "F0 = zeros(d,d);\n",
    "for id = 1:d\n",
    "    for jd = 1:d\n",
    "        for kd = 1:d\n",
    "            for ld = 1:d\n",
    "                F0[id,jd] = F0[id,jd] + A[id,kd]*B[kd,ld]*C[ld,jd];\n",
    "            end\n",
    "        end\n",
    "    end\n",
    "end\n",
    "# Evaluare network via sequence of binary contractions\n",
    "F1 = (A*B)*C;"
   ]
  },
  {
   "cell_type": "code",
   "execution_count": 69,
   "metadata": {},
   "outputs": [
    {
     "data": {
      "text/plain": [
       "10×10 Matrix{Float64}:\n",
       " 13.3556  13.6591  13.8175  14.9754  …  14.1626  13.2207  12.7631  11.8092\n",
       " 18.9098  18.2819  19.4986  20.2868     19.5244  17.5583  16.8754  16.124\n",
       " 13.3292  12.6883  13.4362  13.9129     13.0947  11.9928  11.6895  10.6166\n",
       " 12.7182  12.0331  13.1903  13.2666     13.1267  11.4115  11.1896  10.6444\n",
       " 18.0231  17.9012  18.5292  19.6909     18.7387  17.1452  16.5635  15.479\n",
       " 16.4281  16.2641  17.0397  17.8021  …  17.1897  15.4947  15.2561  14.3514\n",
       " 11.2926  11.1745  11.849   12.4043     12.2778  10.7277  10.7109  10.1734\n",
       " 18.9511  18.3191  19.1869  20.0251     19.5669  17.2231  17.0091  15.8655\n",
       " 25.3841  24.3852  26.0169  27.0112     26.5055  23.1457  22.7751  21.7335\n",
       " 14.057   13.6226  14.0319  14.9117     14.553   12.6891  13.1878  11.9568"
      ]
     },
     "execution_count": 69,
     "metadata": {},
     "output_type": "execute_result"
    }
   ],
   "source": [
    "F0"
   ]
  },
  {
   "cell_type": "code",
   "execution_count": 70,
   "metadata": {},
   "outputs": [
    {
     "data": {
      "text/plain": [
       "10×10 Matrix{Float64}:\n",
       " 13.3556  13.6591  13.8175  14.9754  …  14.1626  13.2207  12.7631  11.8092\n",
       " 18.9098  18.2819  19.4986  20.2868     19.5244  17.5583  16.8754  16.124\n",
       " 13.3292  12.6883  13.4362  13.9129     13.0947  11.9928  11.6895  10.6166\n",
       " 12.7182  12.0331  13.1903  13.2666     13.1267  11.4115  11.1896  10.6444\n",
       " 18.0231  17.9012  18.5292  19.6909     18.7387  17.1452  16.5635  15.479\n",
       " 16.4281  16.2641  17.0397  17.8021  …  17.1897  15.4947  15.2561  14.3514\n",
       " 11.2926  11.1745  11.849   12.4043     12.2778  10.7277  10.7109  10.1734\n",
       " 18.9511  18.3191  19.1869  20.0251     19.5669  17.2231  17.0091  15.8655\n",
       " 25.3841  24.3852  26.0169  27.0112     26.5055  23.1457  22.7751  21.7335\n",
       " 14.057   13.6226  14.0319  14.9117     14.553   12.6891  13.1878  11.9568"
      ]
     },
     "execution_count": 70,
     "metadata": {},
     "output_type": "execute_result"
    }
   ],
   "source": [
    "F1"
   ]
  },
  {
   "cell_type": "code",
   "execution_count": 73,
   "metadata": {},
   "outputs": [
    {
     "ename": "LoadError",
     "evalue": "LoadError: UndefVarError: @benchmark not defined\nin expression starting at In[73]:1",
     "output_type": "error",
     "traceback": [
      "LoadError: UndefVarError: @benchmark not defined\nin expression starting at In[73]:1",
      "",
      "Stacktrace:",
      " [1] top-level scope",
      "   @ :0",
      " [2] eval",
      "   @ ./boot.jl:360 [inlined]",
      " [3] include_string(mapexpr::typeof(REPL.softscope), mod::Module, code::String, filename::String)",
      "   @ Base ./loading.jl:1116"
     ]
    }
   ],
   "source": [
    "@benchmark F1*20"
   ]
  },
  {
   "cell_type": "code",
   "execution_count": 74,
   "metadata": {},
   "outputs": [
    {
     "ename": "LoadError",
     "evalue": "ArgumentError: Package BanchmarkTools not found in current path:\n- Run `import Pkg; Pkg.add(\"BanchmarkTools\")` to install the BanchmarkTools package.\n",
     "output_type": "error",
     "traceback": [
      "ArgumentError: Package BanchmarkTools not found in current path:\n- Run `import Pkg; Pkg.add(\"BanchmarkTools\")` to install the BanchmarkTools package.\n",
      "",
      "Stacktrace:",
      " [1] require(into::Module, mod::Symbol)",
      "   @ Base ./loading.jl:893",
      " [2] eval",
      "   @ ./boot.jl:360 [inlined]",
      " [3] include_string(mapexpr::typeof(REPL.softscope), mod::Module, code::String, filename::String)",
      "   @ Base ./loading.jl:1116"
     ]
    }
   ],
   "source": [
    "using BanchmarkTools"
   ]
  },
  {
   "cell_type": "code",
   "execution_count": 78,
   "metadata": {},
   "outputs": [
    {
     "ename": "LoadError",
     "evalue": "syntax: extra token \"(\" after end of expression",
     "output_type": "error",
     "traceback": [
      "syntax: extra token \"(\" after end of expression",
      "",
      "Stacktrace:",
      " [1] top-level scope",
      "   @ In[78]:1",
      " [2] eval",
      "   @ ./boot.jl:360 [inlined]",
      " [3] include_string(mapexpr::typeof(REPL.softscope), mod::Module, code::String, filename::String)",
      "   @ Base ./loading.jl:1116"
     ]
    }
   ],
   "source": [
    "import Pkg.add(BanchmarkTools)"
   ]
  },
  {
   "cell_type": "code",
   "execution_count": 80,
   "metadata": {},
   "outputs": [
    {
     "ename": "LoadError",
     "evalue": "LoadError: UndefVarError: @benchmark not defined\nin expression starting at In[80]:1",
     "output_type": "error",
     "traceback": [
      "LoadError: UndefVarError: @benchmark not defined\nin expression starting at In[80]:1",
      "",
      "Stacktrace:",
      " [1] top-level scope",
      "   @ :0",
      " [2] eval",
      "   @ ./boot.jl:360 [inlined]",
      " [3] include_string(mapexpr::typeof(REPL.softscope), mod::Module, code::String, filename::String)",
      "   @ Base ./loading.jl:1116"
     ]
    }
   ],
   "source": [
    "@benchmark  F1 = (A*B)*C"
   ]
  },
  {
   "cell_type": "code",
   "execution_count": 81,
   "metadata": {},
   "outputs": [],
   "source": [
    "##### Ex.1.4(c): Tensor network evaluation\n",
    "d = 10; A = rand(d,d);  B = rand(d,d); C = rand(d,d);\n",
    "# Evaluare network via summation over internal indices\n",
    "F0 = zeros(d,d);\n",
    "for id = 1:d\n",
    "    for jd = 1:d\n",
    "        for kd = 1:d\n",
    "            for ld = 1:d\n",
    "                F0[id,jd] = F0[id,jd] + A[id,kd]*B[kd,ld]*C[ld,jd];\n",
    "            end\n",
    "        end\n",
    "    end\n",
    "end"
   ]
  },
  {
   "cell_type": "code",
   "execution_count": 88,
   "metadata": {},
   "outputs": [
    {
     "ename": "LoadError",
     "evalue": "syntax: incomplete: premature end of input",
     "output_type": "error",
     "traceback": [
      "syntax: incomplete: premature end of input",
      "",
      "Stacktrace:",
      " [1] top-level scope",
      "   @ In[88]:1",
      " [2] eval",
      "   @ ./boot.jl:360 [inlined]",
      " [3] include_string(mapexpr::typeof(REPL.softscope), mod::Module, code::String, filename::String)",
      "   @ Base ./loading.jl:1116"
     ]
    }
   ],
   "source": [
    " @profile macro "
   ]
  },
  {
   "cell_type": "code",
   "execution_count": 89,
   "metadata": {},
   "outputs": [],
   "source": [
    "using BenchmarkTools"
   ]
  },
  {
   "cell_type": "code",
   "execution_count": 90,
   "metadata": {},
   "outputs": [
    {
     "data": {
      "text/plain": [
       "BenchmarkTools.Trial: 10000 samples with 133 evaluations.\n",
       " Range \u001b[90m(\u001b[39m\u001b[36m\u001b[1mmin\u001b[22m\u001b[39m … \u001b[35mmax\u001b[39m\u001b[90m):  \u001b[39m\u001b[36m\u001b[1m704.248 ns\u001b[22m\u001b[39m … \u001b[35m  6.291 μs\u001b[39m  \u001b[90m┊\u001b[39m GC \u001b[90m(\u001b[39mmin … max\u001b[90m): \u001b[39m0.00% … 86.66%\n",
       " Time  \u001b[90m(\u001b[39m\u001b[34m\u001b[1mmedian\u001b[22m\u001b[39m\u001b[90m):     \u001b[39m\u001b[34m\u001b[1m733.951 ns               \u001b[22m\u001b[39m\u001b[90m┊\u001b[39m GC \u001b[90m(\u001b[39mmedian\u001b[90m):    \u001b[39m0.00%\n",
       " Time  \u001b[90m(\u001b[39m\u001b[32m\u001b[1mmean\u001b[22m\u001b[39m ± \u001b[32mσ\u001b[39m\u001b[90m):   \u001b[39m\u001b[32m\u001b[1m788.624 ns\u001b[22m\u001b[39m ± \u001b[32m350.506 ns\u001b[39m  \u001b[90m┊\u001b[39m GC \u001b[90m(\u001b[39mmean ± σ\u001b[90m):  \u001b[39m2.99% ±  6.09%\n",
       "\n",
       "  \u001b[39m▅\u001b[39m▄\u001b[39m█\u001b[34m▅\u001b[39m\u001b[39m▆\u001b[39m▂\u001b[39m \u001b[39m \u001b[32m \u001b[39m\u001b[39m \u001b[39m \u001b[39m \u001b[39m \u001b[39m▁\u001b[39m \u001b[39m \u001b[39m \u001b[39m \u001b[39m \u001b[39m \u001b[39m \u001b[39m \u001b[39m \u001b[39m \u001b[39m \u001b[39m \u001b[39m \u001b[39m \u001b[39m \u001b[39m \u001b[39m \u001b[39m \u001b[39m \u001b[39m \u001b[39m \u001b[39m \u001b[39m \u001b[39m \u001b[39m \u001b[39m \u001b[39m \u001b[39m \u001b[39m \u001b[39m \u001b[39m \u001b[39m \u001b[39m \u001b[39m \u001b[39m \u001b[39m \u001b[39m \u001b[39m \u001b[39m \u001b[39m \u001b[39m \u001b[39m \u001b[39m \u001b[39m \u001b[39m \u001b[39m \u001b[39m \u001b[39m \u001b[39m▁\n",
       "  \u001b[39m█\u001b[39m█\u001b[39m█\u001b[34m█\u001b[39m\u001b[39m█\u001b[39m█\u001b[39m█\u001b[39m█\u001b[32m█\u001b[39m\u001b[39m▆\u001b[39m▇\u001b[39m█\u001b[39m█\u001b[39m█\u001b[39m█\u001b[39m▇\u001b[39m▆\u001b[39m▇\u001b[39m▆\u001b[39m▆\u001b[39m▅\u001b[39m▅\u001b[39m▅\u001b[39m▆\u001b[39m▇\u001b[39m█\u001b[39m▇\u001b[39m█\u001b[39m▆\u001b[39m▅\u001b[39m█\u001b[39m▄\u001b[39m▅\u001b[39m▇\u001b[39m▆\u001b[39m▆\u001b[39m▆\u001b[39m▆\u001b[39m▆\u001b[39m▅\u001b[39m▅\u001b[39m▅\u001b[39m▅\u001b[39m▅\u001b[39m▅\u001b[39m▄\u001b[39m▅\u001b[39m▃\u001b[39m▅\u001b[39m▆\u001b[39m▅\u001b[39m▃\u001b[39m▃\u001b[39m▃\u001b[39m▃\u001b[39m▃\u001b[39m▃\u001b[39m▄\u001b[39m▄\u001b[39m▄\u001b[39m▄\u001b[39m \u001b[39m█\n",
       "  704 ns\u001b[90m        \u001b[39m\u001b[90mHistogram: \u001b[39m\u001b[90m\u001b[1mlog(\u001b[22m\u001b[39m\u001b[90mfrequency\u001b[39m\u001b[90m\u001b[1m)\u001b[22m\u001b[39m\u001b[90m by time\u001b[39m       1.39 μs \u001b[0m\u001b[1m<\u001b[22m\n",
       "\n",
       " Memory estimate\u001b[90m: \u001b[39m\u001b[33m1.75 KiB\u001b[39m, allocs estimate\u001b[90m: \u001b[39m\u001b[33m2\u001b[39m."
      ]
     },
     "execution_count": 90,
     "metadata": {},
     "output_type": "execute_result"
    }
   ],
   "source": [
    "@benchmark (F1 = (A*B)*C)"
   ]
  },
  {
   "cell_type": "code",
   "execution_count": 91,
   "metadata": {},
   "outputs": [
    {
     "data": {
      "text/plain": [
       "BenchmarkTools.Trial: 10000 samples with 143 evaluations.\n",
       " Range \u001b[90m(\u001b[39m\u001b[36m\u001b[1mmin\u001b[22m\u001b[39m … \u001b[35mmax\u001b[39m\u001b[90m):  \u001b[39m\u001b[36m\u001b[1m719.587 ns\u001b[22m\u001b[39m … \u001b[35m  7.389 μs\u001b[39m  \u001b[90m┊\u001b[39m GC \u001b[90m(\u001b[39mmin … max\u001b[90m): \u001b[39m0.00% … 88.15%\n",
       " Time  \u001b[90m(\u001b[39m\u001b[34m\u001b[1mmedian\u001b[22m\u001b[39m\u001b[90m):     \u001b[39m\u001b[34m\u001b[1m745.378 ns               \u001b[22m\u001b[39m\u001b[90m┊\u001b[39m GC \u001b[90m(\u001b[39mmedian\u001b[90m):    \u001b[39m0.00%\n",
       " Time  \u001b[90m(\u001b[39m\u001b[32m\u001b[1mmean\u001b[22m\u001b[39m ± \u001b[32mσ\u001b[39m\u001b[90m):   \u001b[39m\u001b[32m\u001b[1m796.926 ns\u001b[22m\u001b[39m ± \u001b[32m392.375 ns\u001b[39m  \u001b[90m┊\u001b[39m GC \u001b[90m(\u001b[39mmean ± σ\u001b[90m):  \u001b[39m3.43% ±  6.30%\n",
       "\n",
       "  \u001b[39m█\u001b[39m▇\u001b[34m█\u001b[39m\u001b[39m▇\u001b[39m▂\u001b[39m \u001b[39m \u001b[32m \u001b[39m\u001b[39m \u001b[39m \u001b[39m▁\u001b[39m \u001b[39m▁\u001b[39m \u001b[39m \u001b[39m \u001b[39m \u001b[39m \u001b[39m \u001b[39m \u001b[39m \u001b[39m \u001b[39m \u001b[39m \u001b[39m \u001b[39m \u001b[39m \u001b[39m \u001b[39m \u001b[39m \u001b[39m \u001b[39m \u001b[39m \u001b[39m \u001b[39m \u001b[39m \u001b[39m \u001b[39m \u001b[39m \u001b[39m \u001b[39m \u001b[39m \u001b[39m \u001b[39m \u001b[39m \u001b[39m \u001b[39m \u001b[39m \u001b[39m \u001b[39m \u001b[39m \u001b[39m \u001b[39m \u001b[39m \u001b[39m \u001b[39m \u001b[39m \u001b[39m \u001b[39m \u001b[39m \u001b[39m \u001b[39m \u001b[39m▂\n",
       "  \u001b[39m█\u001b[39m█\u001b[34m█\u001b[39m\u001b[39m█\u001b[39m█\u001b[39m█\u001b[39m▇\u001b[32m▇\u001b[39m\u001b[39m▅\u001b[39m▇\u001b[39m█\u001b[39m█\u001b[39m█\u001b[39m█\u001b[39m█\u001b[39m▆\u001b[39m▇\u001b[39m▆\u001b[39m▆\u001b[39m▆\u001b[39m▆\u001b[39m▇\u001b[39m▇\u001b[39m█\u001b[39m█\u001b[39m▇\u001b[39m▆\u001b[39m█\u001b[39m▆\u001b[39m▆\u001b[39m█\u001b[39m▆\u001b[39m▆\u001b[39m█\u001b[39m▇\u001b[39m▆\u001b[39m▆\u001b[39m▅\u001b[39m▆\u001b[39m▅\u001b[39m▅\u001b[39m▄\u001b[39m▆\u001b[39m▅\u001b[39m▄\u001b[39m▆\u001b[39m▆\u001b[39m▅\u001b[39m▄\u001b[39m▅\u001b[39m▆\u001b[39m▄\u001b[39m▅\u001b[39m▄\u001b[39m▅\u001b[39m▄\u001b[39m▆\u001b[39m▆\u001b[39m▄\u001b[39m▃\u001b[39m▃\u001b[39m \u001b[39m█\n",
       "  720 ns\u001b[90m        \u001b[39m\u001b[90mHistogram: \u001b[39m\u001b[90m\u001b[1mlog(\u001b[22m\u001b[39m\u001b[90mfrequency\u001b[39m\u001b[90m\u001b[1m)\u001b[22m\u001b[39m\u001b[90m by time\u001b[39m       1.37 μs \u001b[0m\u001b[1m<\u001b[22m\n",
       "\n",
       " Memory estimate\u001b[90m: \u001b[39m\u001b[33m1.75 KiB\u001b[39m, allocs estimate\u001b[90m: \u001b[39m\u001b[33m2\u001b[39m."
      ]
     },
     "execution_count": 91,
     "metadata": {},
     "output_type": "execute_result"
    }
   ],
   "source": [
    "@benchmark (F1 = A*(B*C))"
   ]
  },
  {
   "cell_type": "code",
   "execution_count": null,
   "metadata": {},
   "outputs": [],
   "source": []
  }
 ],
 "metadata": {
  "kernelspec": {
   "display_name": "Julia 1.6.2",
   "language": "julia",
   "name": "julia-1.6"
  },
  "language_info": {
   "file_extension": ".jl",
   "mimetype": "application/julia",
   "name": "julia",
   "version": "1.6.2"
  }
 },
 "nbformat": 4,
 "nbformat_minor": 4
}
