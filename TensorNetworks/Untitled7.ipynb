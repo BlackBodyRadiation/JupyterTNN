{
 "cells": [
  {
   "cell_type": "code",
   "execution_count": 8,
   "metadata": {},
   "outputs": [
    {
     "data": {
      "text/plain": [
       "HHeisdmrg (generic function with 1 method)"
      ]
     },
     "execution_count": 8,
     "metadata": {},
     "output_type": "execute_result"
    }
   ],
   "source": [
    "#using NBInclude\n",
    "# using NBInclude\n",
    "\n",
    "#@nbinclude(\"GroundState(QOptics).ipynb\")\n",
    "# @nbinclude(\"GroundState(QOptics).ipynb\")\n",
    "# nbinclude can be useful later on\n",
    "# for now just save data and plot it later \n",
    "\n",
    "using ITensors\n",
    "\n",
    "using PyPlot\n",
    "# using PyPlot\n",
    "\n",
    "function HHeisdmrg(N, Jxy, Jz, Nsweep, Bonddim, truncerr)\n",
    "  sites = siteinds(\"S=1/2\",N)\n",
    "function get_Hamiltonian(N, Jxy, Jz)\n",
    "\n",
    "  sites = siteinds(\"S=1/2\",N)\n",
    "  \n",
    "  ampo = OpSum()\n",
    "  for j=1:N-1 \n",
    "    ampo += Jz , \"Sz\",j,\"Sz\",j+1\n",
    "    ampo += Jxy, \"Sx\",j,\"Sx\",j+1\n",
    "    ampo += Jxy, \"Sy\",j,\"Sy\",j+1\n",
    "  end\n",
    "H = MPO(ampo,sites)\n",
    "psi0 = randomMPS(sites,10)\n",
    "\n",
    "  sweeps = Sweeps(Nsweep)\n",
    "  setmaxdim!(sweeps, Bonddim)\n",
    "  H = MPO(ampo,sites)\n",
    "  return H, sites\n",
    "end\n",
    "\n",
    "function perform_sweeps(H, psi0, nsweep, bonddim, tuncerr)\n",
    "\n",
    "  sweeps = Sweeps(nsweep)\n",
    "  setmaxdim!(sweeps, bonddim)\n",
    "  setcutoff!(sweeps, truncerr)\n",
    "\n",
    "  energy, psi = dmrg(H,psi0, sweeps)\n",
    "  energy, psi = dmrg(H, psi0, sweeps)\n",
    "\n",
    "  return energy, psi\n",
    "end\n",
    "Jz=1\n",
    "truncerr=1E-12\n",
    "nsweep = 5\n",
    "Bonddim= 5\n",
    "bonddim= 5\n",
    "bondlist = 1:2:10\n",
    "e0s = []\n",
    "\n",
    "Nlist = 7:10;\n",
    "E0sIT=[]\n",
    "for l in Nlist\n",
    "    e0, psi = HHeisdmrg(l, Jxy, Jz, nsweep, Bonddim, truncerr)\n",
    "    push!(E0sIT,real(e0)/l)\n",
    "end\n",
    "Nlist = 6:9;\n",
    "Elist=[]\n",
    "        \n",
    "\n",
    "for N in Nlist\n",
    "    HH, sites = get_Hamiltonian(N, Jxy, Jz)\n",
    "    psi0 = randomMPS(sites,10)\n",
    "    E0, psi = perform_sweeps(HH, psi0, nsweep, bonddim, truncerr)\n",
    " \n",
    "    push!(Elist,real(E0)/N)\n",
    "end \n",
    "E0p=[E0sIT[i][1] for i=1:length(Nlist)];\n",
    "E0list=[Elist[i][1] for i=1:length(Nlist)];\n",
    "end"
   ]
  },
  {
   "cell_type": "code",
   "execution_count": null,
   "metadata": {},
   "outputs": [],
   "source": [
    "\n",
    "error(\"move the rest of the code to another file to do plotting\")\n",
    "\n",
    "# save data here, we will do plotting in another file.\n",
    "\n",
    "\n",
    "plot(Nlist,E0pQO,color=\"blue\",linestyle = \":\",linewidth = 3)\n",
    "plot(Nlist,E0p,color=\"red\",linewidth = 3)\n",
    "\n"
   ]
  }
 ],
 "metadata": {
  "kernelspec": {
   "display_name": "Julia 1.6.2",
   "language": "julia",
   "name": "julia-1.6"
  },
  "language_info": {
   "file_extension": ".jl",
   "mimetype": "application/julia",
   "name": "julia",
   "version": "1.6.2"
  }
 },
 "nbformat": 4,
 "nbformat_minor": 4
}
